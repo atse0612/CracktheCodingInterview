{
 "cells": [
  {
   "cell_type": "markdown",
   "metadata": {},
   "source": [
    "**Question 1:**\n",
    "\n",
    "Implement an algorithm to determine whether a string has all unique characters. What if you cannot use additional data structures?"
   ]
  },
  {
   "cell_type": "code",
   "execution_count": 100,
   "metadata": {
    "collapsed": false
   },
   "outputs": [],
   "source": [
    "# implementation 1 - using the counter\n",
    "from collections import Counter\n",
    "\n",
    "def is_unique_string_counter(string):\n",
    "    counts = Counter(string)\n",
    "    return(len(counts) == len(string))\n",
    "    "
   ]
  },
  {
   "cell_type": "code",
   "execution_count": 101,
   "metadata": {
    "collapsed": false
   },
   "outputs": [],
   "source": [
    "# implementation 2 - using set\n",
    "def is_unique_string_set(string):\n",
    "    return(len(string)==len(set(string)))\n",
    "    "
   ]
  },
  {
   "cell_type": "code",
   "execution_count": 102,
   "metadata": {
    "collapsed": false
   },
   "outputs": [],
   "source": [
    "# implementation 3 - using no data structures\n",
    "def is_unique_string_no_struc(string):\n",
    "    for letter in string:\n",
    "        if string.count(letter) > 1:\n",
    "            return False\n",
    "        else:\n",
    "            return True"
   ]
  },
  {
   "cell_type": "code",
   "execution_count": 103,
   "metadata": {
    "collapsed": false
   },
   "outputs": [
    {
     "data": {
      "text/plain": [
       "True"
      ]
     },
     "execution_count": 103,
     "metadata": {},
     "output_type": "execute_result"
    }
   ],
   "source": [
    "# let's test various things to make sure it works\n",
    "\n",
    "is_unique_string_set('')\n",
    "is_unique_string_set('aa')\n",
    "is_unique_string_set('ab')\n",
    "is_unique_string_set('.')"
   ]
  },
  {
   "cell_type": "markdown",
   "metadata": {},
   "source": [
    "**Question 2:**\n",
    "\n",
    "Implement a function that reverses a string."
   ]
  },
  {
   "cell_type": "code",
   "execution_count": 104,
   "metadata": {
    "collapsed": false
   },
   "outputs": [],
   "source": [
    "# implementation 1 - using a list, reversing the list, and joining back together\n",
    "def reverse_string_list(string):\n",
    "    return ''.join(reversed(list(string)))"
   ]
  },
  {
   "cell_type": "code",
   "execution_count": 105,
   "metadata": {
    "collapsed": true
   },
   "outputs": [],
   "source": [
    "# implementation 2 - using list comprehension\n",
    "def reverse_string_loop(string):\n",
    "    return ''.join(letter for letter in reversed(string))\n",
    "        "
   ]
  },
  {
   "cell_type": "code",
   "execution_count": 106,
   "metadata": {
    "collapsed": false
   },
   "outputs": [],
   "source": [
    "# implementation 3 - using simple indices on the list\n",
    "def reverse_string_simple(string):\n",
    "    return string[::-1]"
   ]
  },
  {
   "cell_type": "code",
   "execution_count": 107,
   "metadata": {
    "collapsed": false
   },
   "outputs": [
    {
     "data": {
      "text/plain": [
       "'aba'"
      ]
     },
     "execution_count": 107,
     "metadata": {},
     "output_type": "execute_result"
    }
   ],
   "source": [
    "# let's test various things to make sure it works\n",
    "reverse_string_simple('hello')\n",
    "reverse_string_simple('aba')"
   ]
  },
  {
   "cell_type": "markdown",
   "metadata": {},
   "source": [
    "**Question 3:**\n",
    "\n",
    "Given two strings, write a method to determine whether one is a permutation of another."
   ]
  },
  {
   "cell_type": "code",
   "execution_count": 108,
   "metadata": {
    "collapsed": true
   },
   "outputs": [],
   "source": [
    "# implemenation 1 - sort the string\n",
    "def is_permutation_sorted(string1, string2):\n",
    "    return sorted(string1.lower().strip()) == sorted(string2.lower().strip())"
   ]
  },
  {
   "cell_type": "code",
   "execution_count": 109,
   "metadata": {
    "collapsed": true
   },
   "outputs": [],
   "source": [
    "# implementation 2 - using the counter\n",
    "def is_permutation_counter(string1, string2):\n",
    "    return Counter(string1) == Counter(string2)"
   ]
  },
  {
   "cell_type": "code",
   "execution_count": 110,
   "metadata": {
    "collapsed": false
   },
   "outputs": [
    {
     "data": {
      "text/plain": [
       "True"
      ]
     },
     "execution_count": 110,
     "metadata": {},
     "output_type": "execute_result"
    }
   ],
   "source": [
    "is_permutation_counter('test','tset')"
   ]
  },
  {
   "cell_type": "markdown",
   "metadata": {},
   "source": [
    "**Question 4:**\n",
    "\n",
    "Write a method to replace all spaces in a string with %20."
   ]
  },
  {
   "cell_type": "code",
   "execution_count": 111,
   "metadata": {
    "collapsed": true
   },
   "outputs": [],
   "source": [
    "# implentation 1 - using python's built in methods\n",
    "def replace_space(string):\n",
    "    return string.replace(' ','%20')"
   ]
  },
  {
   "cell_type": "code",
   "execution_count": 112,
   "metadata": {
    "collapsed": false
   },
   "outputs": [
    {
     "data": {
      "text/plain": [
       "'hello%20my%20name%20is%20'"
      ]
     },
     "execution_count": 112,
     "metadata": {},
     "output_type": "execute_result"
    }
   ],
   "source": [
    "replace_space('hello my name is ')"
   ]
  },
  {
   "cell_type": "markdown",
   "metadata": {},
   "source": [
    "**Question 5:**\n",
    "\n",
    "Implement a method to perform basic string compression."
   ]
  },
  {
   "cell_type": "code",
   "execution_count": 113,
   "metadata": {
    "collapsed": false
   },
   "outputs": [],
   "source": [
    "# implementation 1 - keep track of the last character, the current character\n",
    "def compress_string_loops(string):\n",
    "    # create a list that'll be the output\n",
    "    out = []\n",
    "    \n",
    "    # set the last character equal to the first\n",
    "    last_char = string[0]\n",
    "    \n",
    "    # set the count = 1\n",
    "    char_count = 1\n",
    "    \n",
    "    # for each character in the string (starting from the second chracter)\n",
    "    for char in string[1:]:\n",
    "        # if the current character equals the first then\n",
    "        if char==last_char:\n",
    "            # add one to the counter\n",
    "            char_count = char_count + 1\n",
    "        # if not then\n",
    "        else:\n",
    "            # append the last character, and the count\n",
    "            out.append(last_char + str(char_count))\n",
    "            # set the last character equal to the current character, and reset the count\n",
    "            last_char = char\n",
    "            char_count = 1\n",
    "    \n",
    "    # last - handle the last characters    \n",
    "    out.append(char + str(char_count))\n",
    "            \n",
    "    return(''.join(out))\n",
    "    "
   ]
  },
  {
   "cell_type": "code",
   "execution_count": 114,
   "metadata": {
    "collapsed": false
   },
   "outputs": [
    {
     "data": {
      "text/plain": [
       "'a2b2c3a4'"
      ]
     },
     "execution_count": 114,
     "metadata": {},
     "output_type": "execute_result"
    }
   ],
   "source": [
    "compress_string_loops('aabbcccaaaa')"
   ]
  },
  {
   "cell_type": "markdown",
   "metadata": {},
   "source": [
    "**Question 6:**\n",
    "\n",
    "Given an image represented by a NxN matrix, where each pixel is represented by 4 bytes, write a method to rotate the matrix by 90 degrees."
   ]
  },
  {
   "cell_type": "code",
   "execution_count": 115,
   "metadata": {
    "collapsed": false
   },
   "outputs": [],
   "source": [
    "# implementation 1 - transposing then reversing\n",
    "def rotate90ccw(matrix):\n",
    "    # create an empty matrix to hold values\n",
    "    reverse_matrix = [[] for row in matrix]\n",
    "\n",
    "    # first, we're simply going to transpose the matrix\n",
    "    # so we'll swap each row with each column\n",
    "    \n",
    "    # so for each row indice\n",
    "    for row_num, row in enumerate(matrix):\n",
    "        # and for each column indice\n",
    "        for col_num, item in enumerate(row):\n",
    "            # swap the two\n",
    "            reverse_matrix[col_num].append(item)\n",
    "\n",
    "    # now, let's reverse the matrix, so it's rotated 90 degrees ccw\n",
    "    reverse_mat = [row for row in reversed(reverse_matrix)]\n",
    "    \n",
    "    return(reverse_mat)"
   ]
  },
  {
   "cell_type": "code",
   "execution_count": 116,
   "metadata": {
    "collapsed": false
   },
   "outputs": [
    {
     "data": {
      "text/plain": [
       "[[3, 6, 9], [2, 5, 8], [1, 4, 7]]"
      ]
     },
     "execution_count": 116,
     "metadata": {},
     "output_type": "execute_result"
    }
   ],
   "source": [
    "mat = [\n",
    "    [1,2,3],\n",
    "    [4,5,6],\n",
    "    [7,8,9],\n",
    "]\n",
    "rotate90ccw(mat)"
   ]
  },
  {
   "cell_type": "markdown",
   "metadata": {},
   "source": [
    "**Question 7:**\n",
    "\n",
    "Write an algorithm such that if an element in a MxN is 0 then its entire row and column are set to 0."
   ]
  },
  {
   "cell_type": "code",
   "execution_count": 117,
   "metadata": {
    "collapsed": false
   },
   "outputs": [],
   "source": [
    "# implementation 1\n",
    "def zero_out(mat):\n",
    "    # create empty sets, to track the unique row and \n",
    "    # column indices for elements that are 0\n",
    "    zero_row_indices = set()\n",
    "    zero_col_indices = set()\n",
    "    \n",
    "    # get the matrix shape, this'll help us later\n",
    "    matrix_shape = len(mat), len(mat[0])\n",
    "    \n",
    "    # iterate through the matrix once and add the indices\n",
    "    # to the two sets we created\n",
    "    for row_num, row in enumerate(mat):\n",
    "        for col_num, item in enumerate(row):\n",
    "            if item==0:\n",
    "                zero_row_indices.add(row_num)\n",
    "                zero_col_indices.add(col_num)\n",
    "    \n",
    "    # zero out the columns that have a 0 element\n",
    "    for row_num in zero_row_indices:\n",
    "        for col_num in range(0,matrix_shape[1]):\n",
    "            mat[row_num][col_num] = 0\n",
    "    \n",
    "    # zero out the rows that have a 0 element\n",
    "    for col_num in zero_col_indices:\n",
    "        for row_num in range(0,matrix_shape[0]):\n",
    "            mat[row_num][col_num] = 0\n",
    "    \n",
    "    # return the matrix\n",
    "    return(mat)\n",
    "        "
   ]
  },
  {
   "cell_type": "code",
   "execution_count": 118,
   "metadata": {
    "collapsed": false
   },
   "outputs": [
    {
     "data": {
      "text/plain": [
       "[[1, 0, 3], [0, 0, 0], [7, 0, 9]]"
      ]
     },
     "execution_count": 118,
     "metadata": {},
     "output_type": "execute_result"
    }
   ],
   "source": [
    "mat = [\n",
    "    [1,2,3],\n",
    "    [4,0,6],\n",
    "    [7,8,9],\n",
    "]\n",
    "\n",
    "zero_out(mat)"
   ]
  },
  {
   "cell_type": "markdown",
   "metadata": {},
   "source": [
    "**Question 8:**\n",
    "\n",
    "Assume we have a method isSubstring that checks if one word is part of another. Given two strings, s1 and s2, write code to check if s2 is a rotation of s1 using only one call to isSubstring."
   ]
  },
  {
   "cell_type": "code",
   "execution_count": 119,
   "metadata": {
    "collapsed": true
   },
   "outputs": [],
   "source": [
    "# implementation 1\n",
    "\n",
    "def is_rotated_string(string1, string2):\n",
    "    s1 = ''.join(sorted(string1))\n",
    "    s2 = ''.join(sorted(string2))\n",
    "    \n",
    "    return (s2 in s1) and (len(s1)==len(s2)) "
   ]
  },
  {
   "cell_type": "code",
   "execution_count": 120,
   "metadata": {
    "collapsed": false
   },
   "outputs": [
    {
     "data": {
      "text/plain": [
       "True"
      ]
     },
     "execution_count": 120,
     "metadata": {},
     "output_type": "execute_result"
    }
   ],
   "source": [
    "is_rotated_string('waterbottle','erbottlewat')"
   ]
  }
 ],
 "metadata": {
  "kernelspec": {
   "display_name": "Python 3",
   "language": "python",
   "name": "python3"
  },
  "language_info": {
   "codemirror_mode": {
    "name": "ipython",
    "version": 3
   },
   "file_extension": ".py",
   "mimetype": "text/x-python",
   "name": "python",
   "nbconvert_exporter": "python",
   "pygments_lexer": "ipython3",
   "version": "3.4.3"
  }
 },
 "nbformat": 4,
 "nbformat_minor": 0
}

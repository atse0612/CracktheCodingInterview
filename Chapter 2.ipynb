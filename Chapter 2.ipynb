{
 "cells": [
  {
   "cell_type": "markdown",
   "metadata": {},
   "source": [
    "**Implementing a Linked List**"
   ]
  },
  {
   "cell_type": "code",
   "execution_count": 1,
   "metadata": {
    "collapsed": true
   },
   "outputs": [],
   "source": [
    "# define the Node object - which will simply track the data\n",
    "# and the next node\n",
    "class Node(object):\n",
    "    def __init__(self, data = None, next_node = None):\n",
    "        self.data = data\n",
    "        self.next_node = next_node\n",
    "\n",
    "# define the Linked List, with various functions to allow us\n",
    "# to insert, delete, count, and search through the list\n",
    "class LinkedList(object):\n",
    "    # initially there won't be a head node\n",
    "    def __init__(self, head = None):\n",
    "        self.head = head\n",
    "        self.size = 0\n",
    "    \n",
    "    # insert data to the top of the Linked List\n",
    "    def insert(self, data):\n",
    "        # create a new Node\n",
    "        node = Node(data = data)\n",
    "        \n",
    "        # if we don't have a head, set it\n",
    "        if self.head is None:\n",
    "            self.head = node\n",
    "        # if we do have a head, then set the current\n",
    "        # node's next_node property to be the current head,\n",
    "        # and then make the current head the new node\n",
    "        else:\n",
    "            node.next_node = self.head\n",
    "            self.head = node\n",
    "            \n",
    "        self.size += 1\n",
    "    \n",
    "    # search through the LinkedList for a specific piece of data\n",
    "    def search(self, data):\n",
    "        # we'll start from the top\n",
    "        current = self.head\n",
    "        # set flag that'll only be True if we find what we're lookinf for\n",
    "        found = False\n",
    "        \n",
    "        # while we have nodes to go through, and the flag is false\n",
    "        while current and found == False:\n",
    "            # if the current node has the data we're interested in, then stop\n",
    "            if current.data == data:\n",
    "                found = True\n",
    "            # if not, then let's look at the next node\n",
    "            else:\n",
    "                current = current.next_node\n",
    "        \n",
    "        # we we reach the end of the Linked List without finding the data\n",
    "        # raise a ValueError\n",
    "        if current is None:\n",
    "            raise ValueError('Value not found in LinkedList.')\n",
    "        # otherwise, we found our data, so return the Node\n",
    "        else:\n",
    "            return current\n",
    "        \n",
    "    # delete a node from the LinkedList, by essentially \"skipping\" that node\n",
    "    def delete(self, data):\n",
    "        # let's start from the top\n",
    "        current = self.head\n",
    "        # we'll also keep track of the previous node we saw\n",
    "        previous = self.head\n",
    "        # and a flag that'll only be True iff we find the node we want to delete\n",
    "        found = False\n",
    "        \n",
    "        # while there are nodes to iterate through, and we haven't found the value\n",
    "        # we're interested in\n",
    "        while current and found == False:\n",
    "            # if we do find the data we're looking for\n",
    "            if current.data == data:\n",
    "                # then trigger the flag\n",
    "                found = True\n",
    "                # and set the previous node's next_node attribute to be the \n",
    "                # current node's next_node attribute (essentially removing\n",
    "                # the current node from the list)\n",
    "                previous.next_node = current.next_node\n",
    "                \n",
    "                self.size -= 1\n",
    "            else:\n",
    "                # otherwise, set the previous node to be the current, and move on\n",
    "                # to look at the next node\n",
    "                previous = current\n",
    "                current = current.next_node\n",
    "    \n",
    "    # size a Linked List, count how many values it has\n",
    "    def size_of(self):\n",
    "        # let's start at 0\n",
    "        size = 0\n",
    "        # and start from the top\n",
    "        current = self.head\n",
    "        \n",
    "        # while we have nodes to iterate through\n",
    "        while current:\n",
    "            # add to the counter\n",
    "            size = size + 1\n",
    "            # and move onto the next node\n",
    "            current = current.next_node\n",
    "        \n",
    "        # return the overall size we find\n",
    "        return(size)\n",
    "    \n",
    "    # function to print out all the elements of the linked list in order\n",
    "    def print_elements(self):\n",
    "        current = self.head\n",
    "        \n",
    "        while current:\n",
    "            print(current.data)\n",
    "            current = current.next_node\n"
   ]
  },
  {
   "cell_type": "markdown",
   "metadata": {},
   "source": [
    "**Question 1**\n",
    "\n",
    "Remove duplicates from an unsorted Linked List."
   ]
  },
  {
   "cell_type": "code",
   "execution_count": 2,
   "metadata": {
    "collapsed": true
   },
   "outputs": [],
   "source": [
    "# implementation 1 - using a set to keep track of duplicates\n",
    "# we're modifying our delete function above slightly\n",
    "def remove_duplicates(linked_list):\n",
    "    # let's start from the top\n",
    "    current = linked_list.head\n",
    "    # we'll also keep track of the previous node we saw\n",
    "    previous = linked_list.head\n",
    "    # and finally a set to track duplicates\n",
    "    duplicates = set()\n",
    "\n",
    "    # while there are nodes to iterate through, and we haven't found the value\n",
    "    # we're interested in\n",
    "    while current:\n",
    "        # if we do find the data we're looking for\n",
    "        if current.data in duplicates:\n",
    "            # set the previous node's next_node attribute to be the \n",
    "            # current node's next_node attribute (essentially removing\n",
    "            # the current node from the list)\n",
    "            previous.next_node = current.next_node\n",
    "            \n",
    "            # then move on to the next node, since we need to go through all nodes\n",
    "            current = current.next_node\n",
    "            \n",
    "            linked_list.size -= 1\n",
    "        else:\n",
    "            # otherwise, set the previous node to be the current, and move on\n",
    "            # to look at the next node\n",
    "            duplicates.add(current.data)\n",
    "            previous = current\n",
    "            current = current.next_node\n"
   ]
  },
  {
   "cell_type": "code",
   "execution_count": 3,
   "metadata": {
    "collapsed": false
   },
   "outputs": [],
   "source": [
    "linked_list = LinkedList()\n",
    "linked_list.insert('a')\n",
    "linked_list.insert('a')\n",
    "linked_list.insert('a')\n",
    "linked_list.insert('b')\n",
    "linked_list.insert('b')\n",
    "linked_list.insert('b')"
   ]
  },
  {
   "cell_type": "code",
   "execution_count": 4,
   "metadata": {
    "collapsed": false
   },
   "outputs": [],
   "source": [
    "remove_duplicates(linked_list)"
   ]
  },
  {
   "cell_type": "code",
   "execution_count": 5,
   "metadata": {
    "collapsed": false
   },
   "outputs": [
    {
     "data": {
      "text/plain": [
       "2"
      ]
     },
     "execution_count": 5,
     "metadata": {},
     "output_type": "execute_result"
    }
   ],
   "source": [
    "linked_list.size"
   ]
  },
  {
   "cell_type": "markdown",
   "metadata": {},
   "source": [
    "**Question 2**\n",
    "\n",
    "Implement an algorithm to find the kth to last element of a LinkedList."
   ]
  },
  {
   "cell_type": "code",
   "execution_count": 6,
   "metadata": {
    "collapsed": true
   },
   "outputs": [],
   "source": [
    "# implementation 1 - just get the size, and iterate\n",
    "# size - k times. trivial since in the our original\n",
    "# linkedlist class we keep track of the size of the list\n",
    "def kth_to_last(linked_list, k):\n",
    "    # get the size of the linked list\n",
    "    length = linked_list.size\n",
    "    \n",
    "    # calculate how many iterations we need to make\n",
    "    iterations = length - k\n",
    "    \n",
    "    # start with the head\n",
    "    current = linked_list.head\n",
    "    \n",
    "    # and iterate until we reach the node\n",
    "    for i in range(0,iterations):\n",
    "        current = current.next_node\n",
    "        \n",
    "    return current"
   ]
  },
  {
   "cell_type": "code",
   "execution_count": 7,
   "metadata": {
    "collapsed": true
   },
   "outputs": [],
   "source": [
    "linked_list = LinkedList()\n",
    "linked_list.insert('a')\n",
    "linked_list.insert('b')\n",
    "linked_list.insert('c')\n",
    "linked_list.insert('d')\n",
    "linked_list.insert('e')\n",
    "linked_list.insert('f')"
   ]
  },
  {
   "cell_type": "code",
   "execution_count": 8,
   "metadata": {
    "collapsed": false
   },
   "outputs": [
    {
     "data": {
      "text/plain": [
       "'d'"
      ]
     },
     "execution_count": 8,
     "metadata": {},
     "output_type": "execute_result"
    }
   ],
   "source": [
    "kth_to_last(linked_list, 4).data"
   ]
  },
  {
   "cell_type": "markdown",
   "metadata": {},
   "source": [
    "**Question 3**\n",
    "\n",
    "Implement an algo to delete a node in the middle of a linked list, without access to the head node."
   ]
  },
  {
   "cell_type": "code",
   "execution_count": 9,
   "metadata": {
    "collapsed": true
   },
   "outputs": [],
   "source": [
    "# set the current node's data to the next node's, and\n",
    "# set the current node's next_node to get 2nd node\n",
    "# down the chain. we're essentially copying the following\n",
    "# node the current, and skipping the next node\n",
    "def delete_node(node):\n",
    "    node.data = node.next_node.data\n",
    "    node.next_node = node.next_node.next_node\n",
    "    linked_list.size -= 1"
   ]
  },
  {
   "cell_type": "code",
   "execution_count": 10,
   "metadata": {
    "collapsed": true
   },
   "outputs": [],
   "source": [
    "linked_list = LinkedList()\n",
    "linked_list.insert('a')\n",
    "linked_list.insert('b')\n",
    "linked_list.insert('c')\n",
    "linked_list.insert('d')\n",
    "linked_list.insert('e')\n",
    "linked_list.insert('f')"
   ]
  },
  {
   "cell_type": "code",
   "execution_count": 11,
   "metadata": {
    "collapsed": false
   },
   "outputs": [],
   "source": [
    "delete_node(linked_list.search('d'))"
   ]
  },
  {
   "cell_type": "code",
   "execution_count": 12,
   "metadata": {
    "collapsed": false
   },
   "outputs": [
    {
     "data": {
      "text/plain": [
       "5"
      ]
     },
     "execution_count": 12,
     "metadata": {},
     "output_type": "execute_result"
    }
   ],
   "source": [
    "linked_list.size"
   ]
  },
  {
   "cell_type": "markdown",
   "metadata": {},
   "source": [
    "**Question 4**\n",
    "\n",
    "Write code to partition a linked list around a value x, so that all nodes less than x come before all nodes greater than or equal to x."
   ]
  },
  {
   "cell_type": "code",
   "execution_count": 13,
   "metadata": {
    "collapsed": false
   },
   "outputs": [],
   "source": [
    "def partition(linked_list, value):\n",
    "    # first - we'll start at the top of the original list\n",
    "    current = linked_list.head\n",
    "    \n",
    "    # we'll then create two new linked lists to keep track of\n",
    "    # values less than the target value, and values greater than\n",
    "    lt_linked_list = LinkedList()\n",
    "    gt_linked_list = LinkedList()\n",
    "    \n",
    "    # we'll create a variable to keep track of the node at the bottom\n",
    "    # of the less than linked list\n",
    "    last_lt = None\n",
    "    \n",
    "    # while we have nodes in the input linked list\n",
    "    while current:\n",
    "        # if the value of the current node is less than the target value\n",
    "        if current.data < value:\n",
    "            # and if it's the first value we're inserting\n",
    "            if lt_linked_list.head is None:\n",
    "                # then insert it, and set last_lt to this node\n",
    "                lt_linked_list.insert(current.data)\n",
    "                last_lt = lt_linked_list.head\n",
    "            # otherwise simply insert it\n",
    "            else:\n",
    "                lt_linked_list.insert(current.data)\n",
    "            \n",
    "            # and move onto the next node\n",
    "            current = current.next_node\n",
    "        # other wise, if the value is greater than or equal to the target value\n",
    "        # then insert it into the greater than linked list\n",
    "        else:\n",
    "            gt_linked_list.insert(current.data)\n",
    "            current = current.next_node\n",
    "    \n",
    "    # finally - set the bottom node of less than linked list to point to the head\n",
    "    # node of the greater than linked list\n",
    "    last_lt.next_node = gt_linked_list.head\n",
    "    \n",
    "    # and return the lt linked list\n",
    "    return lt_linked_list"
   ]
  },
  {
   "cell_type": "code",
   "execution_count": 14,
   "metadata": {
    "collapsed": true
   },
   "outputs": [],
   "source": [
    "linked_list = LinkedList()\n",
    "linked_list.insert(2)\n",
    "linked_list.insert(1)\n",
    "linked_list.insert(4)\n",
    "linked_list.insert(5)\n",
    "linked_list.insert(2)\n",
    "linked_list.insert(-1)\n",
    "linked_list.insert(10)\n",
    "linked_list.insert(7)\n",
    "linked_list.insert(0)\n",
    "linked_list.insert(11)\n",
    "linked_list.insert(1.3)"
   ]
  },
  {
   "cell_type": "code",
   "execution_count": 15,
   "metadata": {
    "collapsed": false
   },
   "outputs": [
    {
     "name": "stdout",
     "output_type": "stream",
     "text": [
      "2\n",
      "1\n",
      "2\n",
      "-1\n",
      "0\n",
      "1.3\n",
      "4\n",
      "5\n",
      "10\n",
      "7\n",
      "11\n"
     ]
    }
   ],
   "source": [
    "result = partition(linked_list, 3).print_elements()"
   ]
  },
  {
   "cell_type": "markdown",
   "metadata": {},
   "source": [
    "**Question 5**\n",
    "\n",
    "Two numbers are stored in two linked lists in reverse order, create a function that adds the two numbers and returns the result as another linked list."
   ]
  },
  {
   "cell_type": "code",
   "execution_count": 16,
   "metadata": {
    "collapsed": false
   },
   "outputs": [],
   "source": [
    "def sum_reversed_list(linked_list_1, linked_list_2):\n",
    "    # we'll do this a bit differently, and \"cheat\" using lists\n",
    "    # let's setup two lists to create the actual numbers\n",
    "    num1 = []\n",
    "    num2 = []\n",
    "    \n",
    "    # now we'll go through the first list\n",
    "    current1 = linked_list_1.head\n",
    "    \n",
    "    # for each item in the first list, we'll append it to the \n",
    "    # list we created above, and since our LL's are created in\n",
    "    # reverse order, this'll create the number in the correct order\n",
    "    while current1:\n",
    "        num1.append(str(current1.data))\n",
    "        current1 = current1.next_node\n",
    "    \n",
    "    # same logic for the second list\n",
    "    current2 = linked_list_2.head\n",
    "    \n",
    "    while current2:\n",
    "        num2.append(str(current2.data))\n",
    "        current2 = current2.next_node\n",
    "    \n",
    "    # then - we'll coerce the two lists into a string, so we can combine,\n",
    "    # and then we'll coerce them back into ints and add them together\n",
    "    summed = int(''.join(num1)) + int(''.join(num2))\n",
    "    \n",
    "    # finally - let's create the LL that'll be the final result\n",
    "    result = LinkedList()\n",
    "    \n",
    "    # now we'll iterate through the sum we have, coercing it into a\n",
    "    # string first, then a list, so we can iterate through it\n",
    "    for item in list(str(summed)):\n",
    "        # and we'll add it to the LL\n",
    "        result.insert(item)\n",
    "\n",
    "    # last, let's return the result\n",
    "    return result\n",
    "    \n",
    "    "
   ]
  },
  {
   "cell_type": "code",
   "execution_count": 17,
   "metadata": {
    "collapsed": true
   },
   "outputs": [],
   "source": [
    "l1 = LinkedList()\n",
    "l1.insert(4)\n",
    "l1.insert(2)\n",
    "l1.insert(3)\n",
    "\n",
    "l2 = LinkedList()\n",
    "l2.insert(1)\n",
    "l2.insert(2)\n",
    "l2.insert(3)\n"
   ]
  },
  {
   "cell_type": "code",
   "execution_count": 18,
   "metadata": {
    "collapsed": false
   },
   "outputs": [
    {
     "name": "stdout",
     "output_type": "stream",
     "text": [
      "5\n",
      "4\n",
      "6\n"
     ]
    }
   ],
   "source": [
    "sum_reversed_list(l1,l2).print_elements()"
   ]
  },
  {
   "cell_type": "markdown",
   "metadata": {},
   "source": [
    "**Question 6**\n",
    "\n",
    "Given a circular linked list (where a node links to a previous node), implement an algorithm to find the beginning of the loop."
   ]
  },
  {
   "cell_type": "code",
   "execution_count": 19,
   "metadata": {
    "collapsed": true
   },
   "outputs": [],
   "source": [
    "##TODO"
   ]
  },
  {
   "cell_type": "markdown",
   "metadata": {},
   "source": [
    "**Question 7**\n",
    "\n",
    "Implement a function check if a linked list is a palindrome."
   ]
  },
  {
   "cell_type": "code",
   "execution_count": 20,
   "metadata": {
    "collapsed": true
   },
   "outputs": [],
   "source": [
    "##TODO"
   ]
  }
 ],
 "metadata": {
  "kernelspec": {
   "display_name": "Python 3",
   "language": "python",
   "name": "python3"
  },
  "language_info": {
   "codemirror_mode": {
    "name": "ipython",
    "version": 3
   },
   "file_extension": ".py",
   "mimetype": "text/x-python",
   "name": "python",
   "nbconvert_exporter": "python",
   "pygments_lexer": "ipython3",
   "version": "3.4.3"
  }
 },
 "nbformat": 4,
 "nbformat_minor": 0
}
